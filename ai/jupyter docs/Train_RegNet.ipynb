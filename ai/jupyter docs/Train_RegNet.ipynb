version https://git-lfs.github.com/spec/v1
oid sha256:4240cb4fae03b13b97790647f22aa2e243ef8f4b1d2e4a4740577a1d5c133a4b
size 21271
