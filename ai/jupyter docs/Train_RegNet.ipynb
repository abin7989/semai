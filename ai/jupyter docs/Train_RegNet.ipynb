version https://git-lfs.github.com/spec/v1
oid sha256:894e5a9ad5b0e2a2e57bcd5c2b9f7ec8e81ccd565d1110cf4087ebc441011ac7
size 17764
