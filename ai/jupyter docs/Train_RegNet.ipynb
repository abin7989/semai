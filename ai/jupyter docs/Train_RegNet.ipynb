version https://git-lfs.github.com/spec/v1
oid sha256:8f301330d6ad417b703368f1a0030e389bdbcc7674469eec209f385d1a74b810
size 23448
