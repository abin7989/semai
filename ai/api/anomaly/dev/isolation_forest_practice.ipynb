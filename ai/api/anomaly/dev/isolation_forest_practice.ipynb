version https://git-lfs.github.com/spec/v1
oid sha256:a85b86d40fa2732167de9759ec088324f04010e467d2c4c1d28c7a5ade72e99c
size 45604
